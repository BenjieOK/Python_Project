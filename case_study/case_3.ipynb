{
 "cells": [
  {
   "cell_type": "code",
   "execution_count": null,
   "metadata": {},
   "outputs": [],
   "source": [
    "import numpy as np\n",
    "import pandas as pd\n",
    "\n",
    "coord = (pd.read_csv(\"../data/airports.dat\", index_col=['AIRPORT'], \n",
    "                     usecols=['AIRPORT','LATITUDE','LONGITUDE'])\n",
    "         .groupby(level=0)\n",
    "         .first()\n",
    "         .dropna()\n",
    "         .sample(n=500, random_state=42)\n",
    "         .sort_index())\n",
    "\n",
    "coord.head()"
   ]
  },
  {
   "cell_type": "code",
   "execution_count": null,
   "metadata": {},
   "outputs": [],
   "source": [
    "idx = pd.MultiIndex.from_product([coord.index, coord.index], \n",
    "                                             names=['origin','dest'])\n",
    "\n",
    "pairs = pd.concat([coord.add_suffix('_SRC').reindex(idx, level='origin'),\n",
    "                   coord.add_suffix('_DST').reindex(idx, level='dest')],\n",
    "                  axis=1)\n",
    "\n",
    "pairs.head()"
   ]
  },
  {
   "cell_type": "code",
   "execution_count": null,
   "metadata": {},
   "outputs": [],
   "source": [
    "idx = idx[idx.get_level_values(0) <= idx.get_level_values(1)]\n",
    "\n",
    "idx"
   ]
  },
  {
   "cell_type": "code",
   "execution_count": null,
   "metadata": {},
   "outputs": [],
   "source": [
    "import math\n",
    "\n",
    "def gcd_py(lat_src, lng_src, lat_dst, lng_dst):\n",
    "    earth_radius_km = 6373\n",
    "    degs_to_rads = math.pi/180.0\n",
    "    precision = 8 #dp\n",
    "    \n",
    "    theta_1 = (90-lat_src) * degs_to_rads\n",
    "    theta_2 = (90-lat_dst) * degs_to_rads\n",
    "    \n",
    "    omega_1 = lng_src * degs_to_rads\n",
    "    omega_2 = lng_dst * degs_to_rads\n",
    "    \n",
    "    cos = (math.sin(theta_1) * math.sin(theta_2) * \n",
    "           math.cos(omega_1 - omega_2) + \n",
    "           math.cos(theta_1) * math.cos(theta_2))\n",
    "    \n",
    "    cos = round(cos, precision)\n",
    "    arc = math.acos(cos)\n",
    "    \n",
    "    return arc * earth_radius_km\n",
    "\n"
   ]
  },
  {
   "cell_type": "code",
   "execution_count": null,
   "metadata": {},
   "outputs": [],
   "source": [
    "%%time\n",
    "r = pairs.apply(lambda x: gcd_py(x['LATITUDE_SRC'], x['LONGITUDE_SRC'], \n",
    "                                 x['LATITUDE_DST'], x['LATITUDE_DST']), axis=1)"
   ]
  },
  {
   "cell_type": "code",
   "execution_count": null,
   "metadata": {},
   "outputs": [],
   "source": [
    "r.head()"
   ]
  },
  {
   "cell_type": "code",
   "execution_count": null,
   "metadata": {},
   "outputs": [],
   "source": [
    "def gcd_vec(lat_src, lng_src, lat_dst, lng_dst):\n",
    "    earth_radius_km = 6373\n",
    "    \n",
    "    theta_1 = np.deg2rad(90 - lat_src)\n",
    "    theta_2 = np.deg2rad(90 - lat_dst)\n",
    "    \n",
    "    omega_1 = np.deg2rad(lng_src)\n",
    "    omega_2 = np.deg2rad(lng_dst)\n",
    "    \n",
    "    cos = (np.sin(theta_1) * np.sin(theta_2) * np.cos(omega_1 - omega_2) +\n",
    "          np.cos(theta_1) * np.cos(theta_2))\n",
    "    \n",
    "    arc = np.arccos(cos)\n",
    "    \n",
    "    return arc * earth_radius_km\n",
    "\n"
   ]
  },
  {
   "cell_type": "code",
   "execution_count": null,
   "metadata": {},
   "outputs": [],
   "source": [
    "%%time\n",
    "r = pairs.apply(lambda x: gcd_vec(x['LATITUDE_SRC'], x['LONGITUDE_SRC'], \n",
    "                                  x['LATITUDE_DST'], x['LATITUDE_DST']), axis=1)"
   ]
  },
  {
   "cell_type": "code",
   "execution_count": null,
   "metadata": {},
   "outputs": [],
   "source": [
    "r.head()"
   ]
  },
  {
   "cell_type": "code",
   "execution_count": null,
   "metadata": {},
   "outputs": [],
   "source": [
    "%%time\n",
    "pd.Series([gcd_py(*x) for x in pairs.itertuples(index=False)], \n",
    "                                            index=pairs.index)"
   ]
  },
  {
   "cell_type": "code",
   "execution_count": null,
   "metadata": {},
   "outputs": [],
   "source": [
    "%%time\n",
    "pd.Series([gcd_vec(*x) for x in pairs.itertuples(index=False)], index=pairs.index)"
   ]
  },
  {
   "cell_type": "code",
   "execution_count": null,
   "metadata": {},
   "outputs": [],
   "source": [
    "%%time\n",
    "r = gcd_vec(pairs['LATITUDE_SRC'], pairs['LONGITUDE_SRC'], \n",
    "            pairs['LATITUDE_DST'], pairs['LONGITUDE_DST'])"
   ]
  },
  {
   "cell_type": "code",
   "execution_count": null,
   "metadata": {},
   "outputs": [],
   "source": [
    "r"
   ]
  },
  {
   "cell_type": "code",
   "execution_count": null,
   "metadata": {},
   "outputs": [],
   "source": []
  }
 ],
 "metadata": {
  "kernelspec": {
   "name": "python3",
   "display_name": "Python 3.7.8 64-bit ('venv')",
   "metadata": {
    "interpreter": {
     "hash": "2f97be2f58ebea0ccb36b883a9b1b7d374d3c2a40a6a7f8bf2b20eff337a735f"
    }
   }
  },
  "language_info": {
   "codemirror_mode": {
    "name": "ipython",
    "version": 3
   },
   "file_extension": ".py",
   "mimetype": "text/x-python",
   "name": "python",
   "nbconvert_exporter": "python",
   "pygments_lexer": "ipython3",
   "version": "3.7.8-final"
  }
 },
 "nbformat": 4,
 "nbformat_minor": 2
}